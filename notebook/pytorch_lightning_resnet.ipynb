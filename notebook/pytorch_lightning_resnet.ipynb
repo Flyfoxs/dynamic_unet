{
 "cells": [
  {
   "cell_type": "code",
   "execution_count": 1,
   "metadata": {},
   "outputs": [
    {
     "name": "stderr",
     "output_type": "stream",
     "text": [
      "2020-06-14 22:53:39,623 util_log.py[153] INFO Start the program at:amax7, 127.0.1.1, with:Load module\n"
     ]
    },
    {
     "name": "stdout",
     "output_type": "stream",
     "text": [
      "File_cache: Adjust notebook work fold to:/share/felix/pj/dynamic_unet/\n"
     ]
    }
   ],
   "source": [
    "\n",
    "import os\n",
    "os.environ[\"CUDA_VISIBLE_DEVICES\"]=\"2\"\n",
    "\n",
    "import torch\n",
    "from torch.nn import functional as F\n",
    "from torch.utils.data import DataLoader, Dataset\n",
    "from torchvision.datasets import MNIST\n",
    "from torchvision import transforms\n",
    "import pytorch_lightning as pl\n",
    "from file_cache import *\n",
    "\n",
    "\n",
    "from albumentations import (\n",
    "    PadIfNeeded,\n",
    "    HorizontalFlip,\n",
    "    VerticalFlip,\n",
    "    CenterCrop,\n",
    "    Crop,\n",
    "    Compose,\n",
    "    Transpose,\n",
    "    RandomRotate90,\n",
    "    ElasticTransform,\n",
    "    GridDistortion,\n",
    "    OpticalDistortion,\n",
    "    RandomSizedCrop,\n",
    "    OneOf,\n",
    "    CLAHE,\n",
    "    RandomBrightnessContrast,\n",
    "    RandomGamma,\n",
    "    Resize,\n",
    "    Rotate,\n",
    "    Normalize,\n",
    ")\n",
    "\n"
   ]
  },
  {
   "cell_type": "code",
   "execution_count": 2,
   "metadata": {},
   "outputs": [
    {
     "name": "stdout",
     "output_type": "stream",
     "text": [
      "==================================================\n",
      "False    600\n",
      "True     101\n",
      "Name: valid, dtype: int64\n",
      "img size torch.Size([3, 720, 960])\n",
      "==================================================\n",
      "False    600\n",
      "True     101\n",
      "Name: valid, dtype: int64\n"
     ]
    },
    {
     "data": {
      "text/plain": [
       "2"
      ]
     },
     "execution_count": 2,
     "metadata": {},
     "output_type": "execute_result"
    }
   ],
   "source": [
    "\n",
    "img_size = height, width = 360*2, 480*2\n",
    "class CamvidDS(Dataset):\n",
    "    def __init__(self, ds_type='train'):\n",
    "        train_file_list = glob('./input/camvid/images/*.png')\n",
    "        df = pd.DataFrame({'img_file':train_file_list})\n",
    "        df['img_name'] = df.img_file.apply(lambda val: os.path.basename(val))\n",
    "        df['label_path'] = df.img_file.apply(lambda val: val.replace('.png', '_P.png').replace('images', 'labels'))\n",
    "        valid_list = pd.read_csv('./input/camvid/valid.txt', header=None).iloc[:,0]        \n",
    "        df['valid'] = df.img_name.isin(valid_list)\n",
    "        \n",
    "        \n",
    "        self.ds_type = ds_type\n",
    "        \n",
    "        if ds_type=='train':\n",
    "            print(df.valid.value_counts())\n",
    "            self.df = df.loc[df.valid==False]\n",
    "        else:\n",
    "            self.df = df.loc[df.valid==True]\n",
    "\n",
    "        original_height, original_width = height, width\n",
    "        size = 224\n",
    "        crop_size = np.random.uniform(0.9, 1)\n",
    "        self.aug_train = Compose([\n",
    "#             OneOf([RandomSizedCrop(min_max_height=(50, 101), height=original_height, width=original_width, p=0.5),\n",
    "#                    PadIfNeeded(min_height=original_height, min_width=original_width, p=0.5)], p=1),\n",
    "            #CenterCrop(int(size*crop_size), int(size*crop_size)),\n",
    "            #VerticalFlip(p=0.5),\n",
    "            #Rotate(limit=(-50, 50)),\n",
    "            Resize(height=height, width=width),\n",
    "            Normalize()\n",
    "        ])\n",
    "\n",
    "        self.aug_val = Compose([\n",
    "            Resize(height=height, width=width),\n",
    "            Normalize()\n",
    "        ])\n",
    "        \n",
    "    def __len__(self):\n",
    "        return len(self.df)\n",
    "        \n",
    "    def __getitem__(self, index):\n",
    "        from PIL import Image\n",
    "        image = self.df.img_file.iloc[index]\n",
    "        #print(image)\n",
    "        image = np.array(Image.open(image).convert('RGB'))\n",
    "\n",
    "        mask = self.df.label_path.iloc[index]\n",
    "        #print(mask)\n",
    "        mask = np.array(Image.open(mask))\n",
    "        \n",
    "        \n",
    "\n",
    "        if self.ds_type=='train':\n",
    "            augmented = self.aug_train(image=image, mask=mask)\n",
    "        else:\n",
    "            augmented = self.aug_val(image=image, mask=mask)\n",
    "\n",
    "        image, mask = augmented['image'], augmented['mask']\n",
    "\n",
    "        return torch.FloatTensor(image).permute([2, 0, 1]), torch.LongTensor(mask)#.cuda()\n",
    "\n",
    "print('====='*10)\n",
    "print('img size', CamvidDS()[0][0].shape)\n",
    "print('====='*10)\n",
    "len(CamvidDS()[0] )"
   ]
  },
  {
   "cell_type": "code",
   "execution_count": 3,
   "metadata": {},
   "outputs": [],
   "source": [
    "\n",
    "\n",
    "#Image.open('./input/camvid/images/0016E5_07979.png')"
   ]
  },
  {
   "cell_type": "code",
   "execution_count": 4,
   "metadata": {
    "scrolled": false
   },
   "outputs": [],
   "source": [
    "from efficientnet_pytorch import EfficientNet\n",
    "from dynamic_unet.base import *\n",
    "\n",
    "# import ipdb\n",
    "# ipdb.set_trace()\n",
    "# def efficient_unet(name='5', in_channels=3):\n",
    "#     from efficientnet_pytorch import EfficientNet\n",
    "#     class EfficientNet_(EfficientNet):\n",
    "#         def __init__(self, *args, **kwargs):\n",
    "#             super().__init__(*args, **kwargs)\n",
    "\n",
    "#         def forward(self, inputs):\n",
    "#             x = self.extract_features(inputs)\n",
    "#             return x\n",
    "#     return EfficientNet_.from_pretrained(f'efficientnet-b{name}', in_channels=in_channels)\n",
    "\n",
    "def unet_resnet34( pretrained: bool = True, blur_final: bool = True,\n",
    "                 norm_type: Optional[NormType] = NormType, split_on: Optional[SplitFuncOrIdxList] = None,\n",
    "                 blur: bool = False,\n",
    "                 self_attention: bool = False, y_range: Optional[Tuple[float, float]] = None, last_cross: bool = True,\n",
    "                 bottle: bool = False, cut: Union[int, Callable] = None,\n",
    "                 n_classes=32, img_size=img_size, in_channels=1,\n",
    "                 **learn_kwargs: Any) -> Learner:\n",
    "    \"Build Unet learner from `data` and `arch`.\"\n",
    "    \"blur: do maxpolling or not\"\n",
    "    from fastai.vision import models\n",
    "    arch: Callable = models.resnet34\n",
    "    body = create_body(arch, pretrained, cut)\n",
    "    from fastai.vision import models\n",
    "    from dynamic_unet.base import DynamicUnet\n",
    "    \n",
    "#     moduleList = flatten_moduleList(body)\n",
    "#     print(len(moduleList))\n",
    "#     for child in moduleList[:-2]:\n",
    "#         for param in child.parameters():\n",
    "#             param.requires_grad = False\n",
    "    print('img_size', img_size)\n",
    "    model = to_device(\n",
    "        DynamicUnet(body, n_classes=n_classes, img_size=img_size, blur=blur, blur_final=blur_final,\n",
    "                                self_attention=self_attention, y_range=y_range, norm_type=norm_type,\n",
    "                                last_cross=last_cross,\n",
    "                                bottle=bottle), 'cuda')\n",
    "    return model\n",
    "\n",
    "class Dynamic_Model(pl.LightningModule):\n",
    "\n",
    "    def __init__(self,  n_classes=32, in_channels=3):\n",
    "        super(Dynamic_Model, self).__init__()\n",
    "        #encoder = efficient_unet(7, in_channels)\n",
    "         \n",
    "        self.unet =  unet_resnet34()\n",
    "\n",
    "\n",
    "    def forward(self, x):\n",
    "        # called with self(x)\n",
    "        return self.unet(x)\n",
    "\n",
    "    def training_step(self, batch, batch_nb):\n",
    "        # REQUIRED\n",
    "        x, y = batch\n",
    "        #print(x.shape, y.shape)\n",
    "        y_hat = self(x)\n",
    "        #print(y_hat.shape, y.shape, y.max())\n",
    "        loss = F.cross_entropy(y_hat, y)\n",
    "        tensorboard_logs = {'train_loss': loss}\n",
    "        return {'loss': loss, 'log': tensorboard_logs}\n",
    "\n",
    "    def validation_step(self, batch, batch_nb):\n",
    "        # OPTIONAL\n",
    "        x, y = batch\n",
    "        y_hat = self(x)\n",
    "        return {'val_loss': F.cross_entropy(y_hat, y)}\n",
    "\n",
    "    def validation_epoch_end(self, outputs):\n",
    "        # OPTIONAL\n",
    "        avg_loss = torch.stack([x['val_loss'] for x in outputs]).mean()\n",
    "        tensorboard_logs = {'val_loss': avg_loss}\n",
    "        print(self.current_epoch, tensorboard_logs)\n",
    "        return {'val_loss': avg_loss, 'log': tensorboard_logs}\n",
    "\n",
    "   \n",
    "    def configure_optimizers(self):\n",
    "        opt = torch.optim.Adam(self.parameters(), lr=3e-4, betas=(0.9, 0.99))\n",
    "        # scheduler = optim.lr_scheduler.OneCycleLR(opt, max_lr=self.hparams.lr,\n",
    "        #                                           steps_per_epoch=len(self.train_dataloader()),\n",
    "        #                                           epochs=self.hparams.epochs)\n",
    "\n",
    "        scheduler = optim.lr_scheduler.StepLR(opt, gamma=0.8, step_size=10)\n",
    "\n",
    "        print('schedule', scheduler)\n",
    "        return [opt], [scheduler]\n",
    "\n",
    "    def train_dataloader(self):\n",
    "        # REQUIRED\n",
    "        return DataLoader(CamvidDS('train'), batch_size=2)\n",
    "\n",
    "    def val_dataloader(self):\n",
    "        # OPTIONAL\n",
    "        return DataLoader(CamvidDS('valid'), batch_size=2)\n",
    "\n",
    "    \n"
   ]
  },
  {
   "cell_type": "code",
   "execution_count": 5,
   "metadata": {},
   "outputs": [
    {
     "name": "stdout",
     "output_type": "stream",
     "text": [
      "img_size (720, 960)\n",
      "   sn       layer    c    w    h               size\n",
      "2   2        ReLU   64  360  480  (1, 64, 360, 480)\n",
      "4   4  Sequential   64  180  240  (1, 64, 180, 240)\n",
      "5   5  Sequential  128   90  120  (1, 128, 90, 120)\n",
      "6   6  Sequential  256   45   60   (1, 256, 45, 60)\n",
      "7   7  Sequential  512   23   30   (1, 512, 23, 30)\n"
     ]
    },
    {
     "name": "stderr",
     "output_type": "stream",
     "text": [
      "GPU available: True, used: True\n",
      "2020-06-14 22:53:53,874 distrib_data_parallel.py[251] INFO GPU available: True, used: True\n",
      "No environment variable for node rank defined. Set as 0.\n",
      "2020-06-14 22:53:53,879 distrib_data_parallel.py[297] WARNING No environment variable for node rank defined. Set as 0.\n",
      "CUDA_VISIBLE_DEVICES: [0]\n",
      "2020-06-14 22:53:53,881 distrib_data_parallel.py[323] INFO CUDA_VISIBLE_DEVICES: [0]\n"
     ]
    },
    {
     "name": "stdout",
     "output_type": "stream",
     "text": [
      "schedule <torch.optim.lr_scheduler.StepLR object at 0x7faa4213f810>\n",
      "0 {'val_loss': tensor(4.7905, device='cuda:0')}\n",
      "False    600\n",
      "True     101\n",
      "Name: valid, dtype: int64\n"
     ]
    },
    {
     "data": {
      "application/vnd.jupyter.widget-view+json": {
       "model_id": "05d7b3d431b3413cb5aa125d3c3ad1c1",
       "version_major": 2,
       "version_minor": 0
      },
      "text/plain": [
       "HBox(children=(FloatProgress(value=0.0, description='Finding best initial lr', style=ProgressStyle(description…"
      ]
     },
     "metadata": {},
     "output_type": "display_data"
    },
    {
     "name": "stderr",
     "output_type": "stream",
     "text": [
      "LR finder stopped early due to diverging loss.\n",
      "2020-06-14 22:54:37,452 lr_finder.py[174] INFO LR finder stopped early due to diverging loss.\n"
     ]
    },
    {
     "name": "stdout",
     "output_type": "stream",
     "text": [
      "\n"
     ]
    },
    {
     "data": {
      "text/plain": [
       "0.0002089296130854041"
      ]
     },
     "execution_count": 5,
     "metadata": {},
     "output_type": "execute_result"
    },
    {
     "data": {
      "image/png": "[encoded data removed]",
      "text/plain": [
       "<Figure size 432x288 with 1 Axes>"
      ]
     },
     "metadata": {
      "needs_background": "light"
     },
     "output_type": "display_data"
    }
   ],
   "source": [
    "dynamic_model = Dynamic_Model()\n",
    "trainer = pl.Trainer(gpus=1, weights_summary=None, ) \n",
    "lr_finder = trainer.lr_find(dynamic_model)\n",
    "\n",
    "\n",
    "fig = lr_finder.plot(suggest=True); \n",
    "\n",
    "fig.show()\n",
    "lr_finder.suggestion()"
   ]
  },
  {
   "cell_type": "code",
   "execution_count": 6,
   "metadata": {},
   "outputs": [
    {
     "name": "stdout",
     "output_type": "stream",
     "text": [
      "img_size (720, 960)\n",
      "   sn       layer    c    w    h               size\n",
      "2   2        ReLU   64  360  480  (1, 64, 360, 480)\n",
      "4   4  Sequential   64  180  240  (1, 64, 180, 240)\n",
      "5   5  Sequential  128   90  120  (1, 128, 90, 120)\n",
      "6   6  Sequential  256   45   60   (1, 256, 45, 60)\n",
      "7   7  Sequential  512   23   30   (1, 512, 23, 30)\n"
     ]
    },
    {
     "name": "stderr",
     "output_type": "stream",
     "text": [
      "GPU available: True, used: True\n",
      "2020-06-14 22:54:43,058 distrib_data_parallel.py[251] INFO GPU available: True, used: True\n",
      "No environment variable for node rank defined. Set as 0.\n",
      "2020-06-14 22:54:43,060 distrib_data_parallel.py[297] WARNING No environment variable for node rank defined. Set as 0.\n",
      "CUDA_VISIBLE_DEVICES: [0]\n",
      "2020-06-14 22:54:43,060 distrib_data_parallel.py[323] INFO CUDA_VISIBLE_DEVICES: [0]\n"
     ]
    },
    {
     "name": "stdout",
     "output_type": "stream",
     "text": [
      "schedule <torch.optim.lr_scheduler.StepLR object at 0x7faa53ef6b90>\n",
      "False    600\n",
      "True     101\n",
      "Name: valid, dtype: int64\n"
     ]
    },
    {
     "data": {
      "application/vnd.jupyter.widget-view+json": {
       "model_id": "0f1cc9981b8d4ad2b3689eef199c8f6a",
       "version_major": 2,
       "version_minor": 0
      },
      "text/plain": [
       "HBox(children=(FloatProgress(value=1.0, bar_style='info', description='Training', layout=Layout(flex='2'), max…"
      ]
     },
     "metadata": {},
     "output_type": "display_data"
    },
    {
     "data": {
      "application/vnd.jupyter.widget-view+json": {
       "model_id": "",
       "version_major": 2,
       "version_minor": 0
      },
      "text/plain": [
       "HBox(children=(FloatProgress(value=1.0, bar_style='info', description='Validating', layout=Layout(flex='2'), m…"
      ]
     },
     "metadata": {},
     "output_type": "display_data"
    },
    {
     "name": "stdout",
     "output_type": "stream",
     "text": [
      "0 {'val_loss': tensor(0.8661, device='cuda:0')}\n"
     ]
    },
    {
     "data": {
      "application/vnd.jupyter.widget-view+json": {
       "model_id": "",
       "version_major": 2,
       "version_minor": 0
      },
      "text/plain": [
       "HBox(children=(FloatProgress(value=1.0, bar_style='info', description='Validating', layout=Layout(flex='2'), m…"
      ]
     },
     "metadata": {},
     "output_type": "display_data"
    },
    {
     "name": "stdout",
     "output_type": "stream",
     "text": [
      "1 {'val_loss': tensor(0.5682, device='cuda:0')}\n"
     ]
    },
    {
     "data": {
      "application/vnd.jupyter.widget-view+json": {
       "model_id": "",
       "version_major": 2,
       "version_minor": 0
      },
      "text/plain": [
       "HBox(children=(FloatProgress(value=1.0, bar_style='info', description='Validating', layout=Layout(flex='2'), m…"
      ]
     },
     "metadata": {},
     "output_type": "display_data"
    },
    {
     "name": "stdout",
     "output_type": "stream",
     "text": [
      "2 {'val_loss': tensor(0.5035, device='cuda:0')}\n"
     ]
    },
    {
     "data": {
      "application/vnd.jupyter.widget-view+json": {
       "model_id": "",
       "version_major": 2,
       "version_minor": 0
      },
      "text/plain": [
       "HBox(children=(FloatProgress(value=1.0, bar_style='info', description='Validating', layout=Layout(flex='2'), m…"
      ]
     },
     "metadata": {},
     "output_type": "display_data"
    },
    {
     "name": "stdout",
     "output_type": "stream",
     "text": [
      "3 {'val_loss': tensor(0.4900, device='cuda:0')}\n"
     ]
    },
    {
     "data": {
      "application/vnd.jupyter.widget-view+json": {
       "model_id": "",
       "version_major": 2,
       "version_minor": 0
      },
      "text/plain": [
       "HBox(children=(FloatProgress(value=1.0, bar_style='info', description='Validating', layout=Layout(flex='2'), m…"
      ]
     },
     "metadata": {},
     "output_type": "display_data"
    },
    {
     "name": "stdout",
     "output_type": "stream",
     "text": [
      "4 {'val_loss': tensor(0.3823, device='cuda:0')}\n"
     ]
    },
    {
     "data": {
      "application/vnd.jupyter.widget-view+json": {
       "model_id": "",
       "version_major": 2,
       "version_minor": 0
      },
      "text/plain": [
       "HBox(children=(FloatProgress(value=1.0, bar_style='info', description='Validating', layout=Layout(flex='2'), m…"
      ]
     },
     "metadata": {},
     "output_type": "display_data"
    },
    {
     "name": "stdout",
     "output_type": "stream",
     "text": [
      "5 {'val_loss': tensor(0.3732, device='cuda:0')}\n"
     ]
    },
    {
     "data": {
      "application/vnd.jupyter.widget-view+json": {
       "model_id": "",
       "version_major": 2,
       "version_minor": 0
      },
      "text/plain": [
       "HBox(children=(FloatProgress(value=1.0, bar_style='info', description='Validating', layout=Layout(flex='2'), m…"
      ]
     },
     "metadata": {},
     "output_type": "display_data"
    },
    {
     "name": "stdout",
     "output_type": "stream",
     "text": [
      "6 {'val_loss': tensor(0.3496, device='cuda:0')}\n"
     ]
    },
    {
     "data": {
      "application/vnd.jupyter.widget-view+json": {
       "model_id": "",
       "version_major": 2,
       "version_minor": 0
      },
      "text/plain": [
       "HBox(children=(FloatProgress(value=1.0, bar_style='info', description='Validating', layout=Layout(flex='2'), m…"
      ]
     },
     "metadata": {},
     "output_type": "display_data"
    },
    {
     "name": "stdout",
     "output_type": "stream",
     "text": [
      "7 {'val_loss': tensor(0.2884, device='cuda:0')}\n"
     ]
    },
    {
     "data": {
      "application/vnd.jupyter.widget-view+json": {
       "model_id": "",
       "version_major": 2,
       "version_minor": 0
      },
      "text/plain": [
       "HBox(children=(FloatProgress(value=1.0, bar_style='info', description='Validating', layout=Layout(flex='2'), m…"
      ]
     },
     "metadata": {},
     "output_type": "display_data"
    },
    {
     "name": "stdout",
     "output_type": "stream",
     "text": [
      "8 {'val_loss': tensor(0.3093, device='cuda:0')}\n"
     ]
    },
    {
     "data": {
      "application/vnd.jupyter.widget-view+json": {
       "model_id": "",
       "version_major": 2,
       "version_minor": 0
      },
      "text/plain": [
       "HBox(children=(FloatProgress(value=1.0, bar_style='info', description='Validating', layout=Layout(flex='2'), m…"
      ]
     },
     "metadata": {},
     "output_type": "display_data"
    },
    {
     "name": "stdout",
     "output_type": "stream",
     "text": [
      "9 {'val_loss': tensor(0.2922, device='cuda:0')}\n"
     ]
    },
    {
     "data": {
      "application/vnd.jupyter.widget-view+json": {
       "model_id": "",
       "version_major": 2,
       "version_minor": 0
      },
      "text/plain": [
       "HBox(children=(FloatProgress(value=1.0, bar_style='info', description='Validating', layout=Layout(flex='2'), m…"
      ]
     },
     "metadata": {},
     "output_type": "display_data"
    },
    {
     "name": "stdout",
     "output_type": "stream",
     "text": [
      "10 {'val_loss': tensor(0.2817, device='cuda:0')}\n"
     ]
    },
    {
     "data": {
      "application/vnd.jupyter.widget-view+json": {
       "model_id": "",
       "version_major": 2,
       "version_minor": 0
      },
      "text/plain": [
       "HBox(children=(FloatProgress(value=1.0, bar_style='info', description='Validating', layout=Layout(flex='2'), m…"
      ]
     },
     "metadata": {},
     "output_type": "display_data"
    },
    {
     "name": "stdout",
     "output_type": "stream",
     "text": [
      "11 {'val_loss': tensor(0.2926, device='cuda:0')}\n"
     ]
    },
    {
     "data": {
      "application/vnd.jupyter.widget-view+json": {
       "model_id": "",
       "version_major": 2,
       "version_minor": 0
      },
      "text/plain": [
       "HBox(children=(FloatProgress(value=1.0, bar_style='info', description='Validating', layout=Layout(flex='2'), m…"
      ]
     },
     "metadata": {},
     "output_type": "display_data"
    },
    {
     "name": "stdout",
     "output_type": "stream",
     "text": [
      "12 {'val_loss': tensor(0.3395, device='cuda:0')}\n"
     ]
    },
    {
     "data": {
      "application/vnd.jupyter.widget-view+json": {
       "model_id": "",
       "version_major": 2,
       "version_minor": 0
      },
      "text/plain": [
       "HBox(children=(FloatProgress(value=1.0, bar_style='info', description='Validating', layout=Layout(flex='2'), m…"
      ]
     },
     "metadata": {},
     "output_type": "display_data"
    },
    {
     "name": "stdout",
     "output_type": "stream",
     "text": [
      "13 {'val_loss': tensor(0.3500, device='cuda:0')}\n"
     ]
    },
    {
     "data": {
      "application/vnd.jupyter.widget-view+json": {
       "model_id": "",
       "version_major": 2,
       "version_minor": 0
      },
      "text/plain": [
       "HBox(children=(FloatProgress(value=1.0, bar_style='info', description='Validating', layout=Layout(flex='2'), m…"
      ]
     },
     "metadata": {},
     "output_type": "display_data"
    },
    {
     "name": "stdout",
     "output_type": "stream",
     "text": [
      "14 {'val_loss': tensor(0.3520, device='cuda:0')}\n"
     ]
    },
    {
     "data": {
      "application/vnd.jupyter.widget-view+json": {
       "model_id": "",
       "version_major": 2,
       "version_minor": 0
      },
      "text/plain": [
       "HBox(children=(FloatProgress(value=1.0, bar_style='info', description='Validating', layout=Layout(flex='2'), m…"
      ]
     },
     "metadata": {},
     "output_type": "display_data"
    },
    {
     "name": "stdout",
     "output_type": "stream",
     "text": [
      "15 {'val_loss': tensor(0.3131, device='cuda:0')}\n"
     ]
    },
    {
     "data": {
      "application/vnd.jupyter.widget-view+json": {
       "model_id": "",
       "version_major": 2,
       "version_minor": 0
      },
      "text/plain": [
       "HBox(children=(FloatProgress(value=1.0, bar_style='info', description='Validating', layout=Layout(flex='2'), m…"
      ]
     },
     "metadata": {},
     "output_type": "display_data"
    },
    {
     "name": "stdout",
     "output_type": "stream",
     "text": [
      "16 {'val_loss': tensor(0.3478, device='cuda:0')}\n"
     ]
    },
    {
     "data": {
      "application/vnd.jupyter.widget-view+json": {
       "model_id": "",
       "version_major": 2,
       "version_minor": 0
      },
      "text/plain": [
       "HBox(children=(FloatProgress(value=1.0, bar_style='info', description='Validating', layout=Layout(flex='2'), m…"
      ]
     },
     "metadata": {},
     "output_type": "display_data"
    },
    {
     "name": "stdout",
     "output_type": "stream",
     "text": [
      "17 {'val_loss': tensor(0.3302, device='cuda:0')}\n"
     ]
    },
    {
     "data": {
      "application/vnd.jupyter.widget-view+json": {
       "model_id": "",
       "version_major": 2,
       "version_minor": 0
      },
      "text/plain": [
       "HBox(children=(FloatProgress(value=1.0, bar_style='info', description='Validating', layout=Layout(flex='2'), m…"
      ]
     },
     "metadata": {},
     "output_type": "display_data"
    },
    {
     "name": "stdout",
     "output_type": "stream",
     "text": [
      "18 {'val_loss': tensor(0.3950, device='cuda:0')}\n"
     ]
    },
    {
     "data": {
      "application/vnd.jupyter.widget-view+json": {
       "model_id": "",
       "version_major": 2,
       "version_minor": 0
      },
      "text/plain": [
       "HBox(children=(FloatProgress(value=1.0, bar_style='info', description='Validating', layout=Layout(flex='2'), m…"
      ]
     },
     "metadata": {},
     "output_type": "display_data"
    },
    {
     "name": "stdout",
     "output_type": "stream",
     "text": [
      "19 {'val_loss': tensor(0.3765, device='cuda:0')}\n",
      "\n"
     ]
    },
    {
     "data": {
      "text/plain": [
       "1"
      ]
     },
     "execution_count": 6,
     "metadata": {},
     "output_type": "execute_result"
    }
   ],
   "source": [
    "\n",
    "dynamic_model = Dynamic_Model()\n",
    "\n",
    "# most basic trainer, uses good defaults (1 gpu)\n",
    "trainer = pl.Trainer(   gpus=1,\n",
    "                         max_epochs=20,\n",
    "                         num_sanity_val_steps=0,\n",
    "                         #show_progress_bar=False,\n",
    "                         #progress_bar_refresh_rate=0,\n",
    "                         weights_summary=None, \n",
    "                    )    \n",
    "\n",
    "trainer.fit(dynamic_model)  \n"
   ]
  },
  {
   "cell_type": "code",
   "execution_count": null,
   "metadata": {},
   "outputs": [],
   "source": []
  }
 ],
 "metadata": {
  "kernelspec": {
   "display_name": "Python 3",
   "language": "python",
   "name": "python3"
  },
  "language_info": {
   "codemirror_mode": {
    "name": "ipython",
    "version": 3
   },
   "file_extension": ".py",
   "mimetype": "text/x-python",
   "name": "python",
   "nbconvert_exporter": "python",
   "pygments_lexer": "ipython3",
   "version": "3.7.4"
  }
 },
 "nbformat": 4,
 "nbformat_minor": 2
}
